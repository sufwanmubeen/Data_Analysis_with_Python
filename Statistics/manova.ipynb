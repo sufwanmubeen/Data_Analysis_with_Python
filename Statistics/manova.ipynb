{
 "cells": [
  {
   "cell_type": "markdown",
   "metadata": {},
   "source": [
    "## **MANOVA**\n",
    "Manova is a multivariate extension of ANOVA. It is used to model two or more dependent variables that are continuous with one or more categorical predictor variables. It is often used to assess for differences between two or more groups.\n",
    "\n",
    "To perform a Multivariate Analysis of Variance (MANOVA) in Python, we typically use the `statsmodels` library. MANOVA is used when there are two or more dependent variables and one or more independent variables. It tests whether the mean differences among groups on a combination of dependent variables are likely to have occurred by chance."
   ]
  },
  {
   "cell_type": "code",
   "execution_count": 1,
   "metadata": {},
   "outputs": [
    {
     "name": "stdout",
     "output_type": "stream",
     "text": [
      "  Method  MathScore  ScienceScore\n",
      "0      A         20            30\n",
      "1      A         22            28\n",
      "2      A         21            29\n",
      "3      B         19            33\n",
      "4      B         18            32\n",
      "5      B         20            31\n",
      "6      C         22            29\n",
      "7      C         23            27\n",
      "8      C         21            28\n",
      "                   Multivariate linear model\n",
      "================================================================\n",
      "                                                                \n",
      "----------------------------------------------------------------\n",
      "       Intercept          Value   Num DF Den DF  F Value  Pr > F\n",
      "----------------------------------------------------------------\n",
      "          Wilks' lambda    0.0005 2.0000 5.0000 4711.5000 0.0000\n",
      "         Pillai's trace    0.9995 2.0000 5.0000 4711.5000 0.0000\n",
      " Hotelling-Lawley trace 1884.6000 2.0000 5.0000 4711.5000 0.0000\n",
      "    Roy's greatest root 1884.6000 2.0000 5.0000 4711.5000 0.0000\n",
      "----------------------------------------------------------------\n",
      "                                                                \n",
      "----------------------------------------------------------------\n",
      "             Method         Value  Num DF  Den DF F Value Pr > F\n",
      "----------------------------------------------------------------\n",
      "              Wilks' lambda 0.1802 4.0000 10.0000  3.3896 0.0534\n",
      "             Pillai's trace 0.8468 4.0000 12.0000  2.2031 0.1301\n",
      "     Hotelling-Lawley trace 4.4000 4.0000  5.1429  5.4000 0.0444\n",
      "        Roy's greatest root 4.3656 2.0000  6.0000 13.0969 0.0065\n",
      "================================================================\n",
      "\n"
     ]
    }
   ],
   "source": [
    "import pandas as pd\n",
    "import statsmodels.api as sm\n",
    "from statsmodels.multivariate.manova import MANOVA\n",
    "\n",
    "# Example dataset\n",
    "data = {\n",
    "    'Method': ['A', 'A', 'A', 'B', 'B', 'B', 'C', 'C', 'C'],\n",
    "    'MathScore': [20, 22, 21, 19, 18, 20, 22, 23, 21],\n",
    "    'ScienceScore': [30, 28, 29, 33, 32, 31, 29, 27, 28]\n",
    "}\n",
    "\n",
    "df = pd.DataFrame(data)\n",
    "print(df.head(10))\n",
    "# Perform MANOVA\n",
    "maov = MANOVA.from_formula('MathScore + ScienceScore ~ Method', data=df)\n",
    "print(maov.mv_test())"
   ]
  },
  {
   "cell_type": "markdown",
   "metadata": {},
   "source": [
    "## Interpertation of MANOVA Results"
   ]
  },
  {
   "cell_type": "markdown",
   "metadata": {},
   "source": [
    "The MANOVA results provided contain two main parts: the test statistics associated with the intercept and the test statistics associated with the independent variable `(Method)`. Each part includes four different test statistics: Wilks' lambda, Pillai's trace, Hotelling-Lawley trace, and Roy's greatest root."
   ]
  }
 ],
 "metadata": {
  "kernelspec": {
   "display_name": "eda",
   "language": "python",
   "name": "python3"
  },
  "language_info": {
   "codemirror_mode": {
    "name": "ipython",
    "version": 3
   },
   "file_extension": ".py",
   "mimetype": "text/x-python",
   "name": "python",
   "nbconvert_exporter": "python",
   "pygments_lexer": "ipython3",
   "version": "3.9.19"
  }
 },
 "nbformat": 4,
 "nbformat_minor": 2
}
