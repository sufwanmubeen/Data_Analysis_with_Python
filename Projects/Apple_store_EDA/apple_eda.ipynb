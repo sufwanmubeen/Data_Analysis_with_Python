{
 "cells": [
  {
   "cell_type": "markdown",
   "metadata": {},
   "source": [
    "# **APPLE APP DATA EDA**\n",
    "## About DataSet\n",
    "### Context\n",
    "Apple AppStore Android App Data. (1.2 Million+ App Data)\n",
    "### Content\n",
    "I've collected the data with the help of Python script (Scrapy) running on a cluster of cloud vm instances.\\\n",
    "The data was collected in the month of October 2021.\n",
    "### Data Author\n",
    "[Gautham Prakash](https://www.kaggle.com/gauthamp10)"
   ]
  },
  {
   "cell_type": "markdown",
   "metadata": {},
   "source": [
    "Let's breakdown our process of EDA.\\\n",
    "**1. Importing the libraries and the dataset.**"
   ]
  },
  {
   "cell_type": "code",
   "execution_count": 1,
   "metadata": {},
   "outputs": [],
   "source": [
    "# importing libraries\n",
    "import pandas as pd\n",
    "import numpy as np\n",
    "import matplotlib.pyplot as plt\n",
    "import seaborn as sns\n",
    "%matplotlib inline"
   ]
  },
  {
   "cell_type": "code",
   "execution_count": 2,
   "metadata": {},
   "outputs": [],
   "source": [
    "# importing dataset\n",
    "df = pd.read_csv('appleAppData.csv')"
   ]
  },
  {
   "cell_type": "markdown",
   "metadata": {},
   "source": [
    "- An important point to keep things tidy!"
   ]
  },
  {
   "cell_type": "code",
   "execution_count": 3,
   "metadata": {},
   "outputs": [],
   "source": [
    "# set option for showing max rows and columns\n",
    "pd.set_option('display.max_rows', None)\n",
    "pd.set_option('display.max_columns', None)\n",
    "# hiding all warnings\n",
    "import warnings\n",
    "warnings.filterwarnings('ignore')"
   ]
  },
  {
   "cell_type": "code",
   "execution_count": 4,
   "metadata": {},
   "outputs": [
    {
     "data": {
      "text/html": [
       "<div>\n",
       "<style scoped>\n",
       "    .dataframe tbody tr th:only-of-type {\n",
       "        vertical-align: middle;\n",
       "    }\n",
       "\n",
       "    .dataframe tbody tr th {\n",
       "        vertical-align: top;\n",
       "    }\n",
       "\n",
       "    .dataframe thead th {\n",
       "        text-align: right;\n",
       "    }\n",
       "</style>\n",
       "<table border=\"1\" class=\"dataframe\">\n",
       "  <thead>\n",
       "    <tr style=\"text-align: right;\">\n",
       "      <th></th>\n",
       "      <th>App_Id</th>\n",
       "      <th>App_Name</th>\n",
       "      <th>AppStore_Url</th>\n",
       "      <th>Primary_Genre</th>\n",
       "      <th>Content_Rating</th>\n",
       "      <th>Size_Bytes</th>\n",
       "      <th>Required_IOS_Version</th>\n",
       "      <th>Released</th>\n",
       "      <th>Updated</th>\n",
       "      <th>Version</th>\n",
       "      <th>Price</th>\n",
       "      <th>Currency</th>\n",
       "      <th>Free</th>\n",
       "      <th>DeveloperId</th>\n",
       "      <th>Developer</th>\n",
       "      <th>Developer_Url</th>\n",
       "      <th>Developer_Website</th>\n",
       "      <th>Average_User_Rating</th>\n",
       "      <th>Reviews</th>\n",
       "      <th>Current_Version_Score</th>\n",
       "      <th>Current_Version_Reviews</th>\n",
       "    </tr>\n",
       "  </thead>\n",
       "  <tbody>\n",
       "    <tr>\n",
       "      <th>0</th>\n",
       "      <td>com.hkbu.arc.apaper</td>\n",
       "      <td>A+ Paper Guide</td>\n",
       "      <td>https://apps.apple.com/us/app/a-paper-guide/id...</td>\n",
       "      <td>Education</td>\n",
       "      <td>4+</td>\n",
       "      <td>21993472.0</td>\n",
       "      <td>8.0</td>\n",
       "      <td>2017-09-28T03:02:41Z</td>\n",
       "      <td>2018-12-21T21:30:36Z</td>\n",
       "      <td>1.1.2</td>\n",
       "      <td>0.00</td>\n",
       "      <td>USD</td>\n",
       "      <td>True</td>\n",
       "      <td>1375410542</td>\n",
       "      <td>HKBU ARC</td>\n",
       "      <td>https://apps.apple.com/us/developer/hkbu-arc/i...</td>\n",
       "      <td>NaN</td>\n",
       "      <td>0.0</td>\n",
       "      <td>0</td>\n",
       "      <td>0.0</td>\n",
       "      <td>0</td>\n",
       "    </tr>\n",
       "    <tr>\n",
       "      <th>1</th>\n",
       "      <td>com.dmitriev.abooks</td>\n",
       "      <td>A-Books</td>\n",
       "      <td>https://apps.apple.com/us/app/a-books/id103157...</td>\n",
       "      <td>Book</td>\n",
       "      <td>4+</td>\n",
       "      <td>13135872.0</td>\n",
       "      <td>10.0</td>\n",
       "      <td>2015-08-31T19:31:32Z</td>\n",
       "      <td>2019-07-23T20:31:09Z</td>\n",
       "      <td>1.3</td>\n",
       "      <td>0.00</td>\n",
       "      <td>USD</td>\n",
       "      <td>True</td>\n",
       "      <td>1031572001</td>\n",
       "      <td>Roman Dmitriev</td>\n",
       "      <td>https://apps.apple.com/us/developer/roman-dmit...</td>\n",
       "      <td>NaN</td>\n",
       "      <td>5.0</td>\n",
       "      <td>1</td>\n",
       "      <td>5.0</td>\n",
       "      <td>1</td>\n",
       "    </tr>\n",
       "    <tr>\n",
       "      <th>2</th>\n",
       "      <td>no.terp.abooks</td>\n",
       "      <td>A-books</td>\n",
       "      <td>https://apps.apple.com/us/app/a-books/id145702...</td>\n",
       "      <td>Book</td>\n",
       "      <td>4+</td>\n",
       "      <td>21943296.0</td>\n",
       "      <td>9.0</td>\n",
       "      <td>2021-04-14T07:00:00Z</td>\n",
       "      <td>2021-05-30T21:08:54Z</td>\n",
       "      <td>1.3.1</td>\n",
       "      <td>0.00</td>\n",
       "      <td>USD</td>\n",
       "      <td>True</td>\n",
       "      <td>1457024163</td>\n",
       "      <td>Terp AS</td>\n",
       "      <td>https://apps.apple.com/us/developer/terp-as/id...</td>\n",
       "      <td>NaN</td>\n",
       "      <td>0.0</td>\n",
       "      <td>0</td>\n",
       "      <td>0.0</td>\n",
       "      <td>0</td>\n",
       "    </tr>\n",
       "    <tr>\n",
       "      <th>3</th>\n",
       "      <td>fr.antoinettefleur.Book1</td>\n",
       "      <td>A-F Book #1</td>\n",
       "      <td>https://apps.apple.com/us/app/a-f-book-1/id500...</td>\n",
       "      <td>Book</td>\n",
       "      <td>4+</td>\n",
       "      <td>81851392.0</td>\n",
       "      <td>8.0</td>\n",
       "      <td>2012-02-10T03:40:07Z</td>\n",
       "      <td>2019-10-29T12:40:37Z</td>\n",
       "      <td>1.2</td>\n",
       "      <td>2.99</td>\n",
       "      <td>USD</td>\n",
       "      <td>False</td>\n",
       "      <td>439568839</td>\n",
       "      <td>i-editeur.com</td>\n",
       "      <td>https://apps.apple.com/us/developer/i-editeur-...</td>\n",
       "      <td>NaN</td>\n",
       "      <td>0.0</td>\n",
       "      <td>0</td>\n",
       "      <td>0.0</td>\n",
       "      <td>0</td>\n",
       "    </tr>\n",
       "    <tr>\n",
       "      <th>4</th>\n",
       "      <td>com.imonstersoft.azdictionaryios</td>\n",
       "      <td>A-Z Synonyms Dictionary</td>\n",
       "      <td>https://apps.apple.com/us/app/a-z-synonyms-dic...</td>\n",
       "      <td>Reference</td>\n",
       "      <td>4+</td>\n",
       "      <td>64692224.0</td>\n",
       "      <td>9.0</td>\n",
       "      <td>2020-12-16T08:00:00Z</td>\n",
       "      <td>2020-12-18T21:36:11Z</td>\n",
       "      <td>1.0.1</td>\n",
       "      <td>0.00</td>\n",
       "      <td>USD</td>\n",
       "      <td>True</td>\n",
       "      <td>656731821</td>\n",
       "      <td>Ngov chiheang</td>\n",
       "      <td>https://apps.apple.com/us/developer/ngov-chihe...</td>\n",
       "      <td>http://imonstersoft.com</td>\n",
       "      <td>0.0</td>\n",
       "      <td>0</td>\n",
       "      <td>0.0</td>\n",
       "      <td>0</td>\n",
       "    </tr>\n",
       "  </tbody>\n",
       "</table>\n",
       "</div>"
      ],
      "text/plain": [
       "                             App_Id                 App_Name  \\\n",
       "0               com.hkbu.arc.apaper           A+ Paper Guide   \n",
       "1               com.dmitriev.abooks                  A-Books   \n",
       "2                    no.terp.abooks                  A-books   \n",
       "3          fr.antoinettefleur.Book1              A-F Book #1   \n",
       "4  com.imonstersoft.azdictionaryios  A-Z Synonyms Dictionary   \n",
       "\n",
       "                                        AppStore_Url Primary_Genre  \\\n",
       "0  https://apps.apple.com/us/app/a-paper-guide/id...     Education   \n",
       "1  https://apps.apple.com/us/app/a-books/id103157...          Book   \n",
       "2  https://apps.apple.com/us/app/a-books/id145702...          Book   \n",
       "3  https://apps.apple.com/us/app/a-f-book-1/id500...          Book   \n",
       "4  https://apps.apple.com/us/app/a-z-synonyms-dic...     Reference   \n",
       "\n",
       "  Content_Rating  Size_Bytes Required_IOS_Version              Released  \\\n",
       "0             4+  21993472.0                  8.0  2017-09-28T03:02:41Z   \n",
       "1             4+  13135872.0                 10.0  2015-08-31T19:31:32Z   \n",
       "2             4+  21943296.0                  9.0  2021-04-14T07:00:00Z   \n",
       "3             4+  81851392.0                  8.0  2012-02-10T03:40:07Z   \n",
       "4             4+  64692224.0                  9.0  2020-12-16T08:00:00Z   \n",
       "\n",
       "                Updated Version  Price Currency   Free  DeveloperId  \\\n",
       "0  2018-12-21T21:30:36Z   1.1.2   0.00      USD   True   1375410542   \n",
       "1  2019-07-23T20:31:09Z     1.3   0.00      USD   True   1031572001   \n",
       "2  2021-05-30T21:08:54Z   1.3.1   0.00      USD   True   1457024163   \n",
       "3  2019-10-29T12:40:37Z     1.2   2.99      USD  False    439568839   \n",
       "4  2020-12-18T21:36:11Z   1.0.1   0.00      USD   True    656731821   \n",
       "\n",
       "        Developer                                      Developer_Url  \\\n",
       "0        HKBU ARC  https://apps.apple.com/us/developer/hkbu-arc/i...   \n",
       "1  Roman Dmitriev  https://apps.apple.com/us/developer/roman-dmit...   \n",
       "2         Terp AS  https://apps.apple.com/us/developer/terp-as/id...   \n",
       "3   i-editeur.com  https://apps.apple.com/us/developer/i-editeur-...   \n",
       "4   Ngov chiheang  https://apps.apple.com/us/developer/ngov-chihe...   \n",
       "\n",
       "         Developer_Website  Average_User_Rating  Reviews  \\\n",
       "0                      NaN                  0.0        0   \n",
       "1                      NaN                  5.0        1   \n",
       "2                      NaN                  0.0        0   \n",
       "3                      NaN                  0.0        0   \n",
       "4  http://imonstersoft.com                  0.0        0   \n",
       "\n",
       "   Current_Version_Score  Current_Version_Reviews  \n",
       "0                    0.0                        0  \n",
       "1                    5.0                        1  \n",
       "2                    0.0                        0  \n",
       "3                    0.0                        0  \n",
       "4                    0.0                        0  "
      ]
     },
     "execution_count": 4,
     "metadata": {},
     "output_type": "execute_result"
    }
   ],
   "source": [
    "# a glance at data\n",
    "df.head()"
   ]
  },
  {
   "cell_type": "markdown",
   "metadata": {},
   "source": [
    "- A look at columns"
   ]
  },
  {
   "cell_type": "code",
   "execution_count": 5,
   "metadata": {},
   "outputs": [
    {
     "name": "stdout",
     "output_type": "stream",
     "text": [
      "The columns in the given DataSet are: Index(['App_Id', 'App_Name', 'AppStore_Url', 'Primary_Genre', 'Content_Rating',\n",
      "       'Size_Bytes', 'Required_IOS_Version', 'Released', 'Updated', 'Version',\n",
      "       'Price', 'Currency', 'Free', 'DeveloperId', 'Developer',\n",
      "       'Developer_Url', 'Developer_Website', 'Average_User_Rating', 'Reviews',\n",
      "       'Current_Version_Score', 'Current_Version_Reviews'],\n",
      "      dtype='object').\n"
     ]
    }
   ],
   "source": [
    "print(f\"The columns in the given DataSet are: {df.columns}.\")"
   ]
  },
  {
   "cell_type": "markdown",
   "metadata": {},
   "source": [
    "- Rows and Columns in Data Set"
   ]
  },
  {
   "cell_type": "code",
   "execution_count": 6,
   "metadata": {},
   "outputs": [
    {
     "name": "stdout",
     "output_type": "stream",
     "text": [
      "The number of rows in dataset are: 1230376.\n",
      "Whereas, the number of columns in dataset are: 21.\n"
     ]
    }
   ],
   "source": [
    "print(f\"The number of rows in dataset are: {df.shape[0]}.\")\n",
    "print(f\"Whereas, the number of columns in dataset are: {df.shape[1]}.\")"
   ]
  },
  {
   "cell_type": "markdown",
   "metadata": {},
   "source": [
    "- Info about the data"
   ]
  },
  {
   "cell_type": "code",
   "execution_count": 7,
   "metadata": {},
   "outputs": [
    {
     "name": "stdout",
     "output_type": "stream",
     "text": [
      "<class 'pandas.core.frame.DataFrame'>\n",
      "RangeIndex: 1230376 entries, 0 to 1230375\n",
      "Data columns (total 21 columns):\n",
      " #   Column                   Non-Null Count    Dtype  \n",
      "---  ------                   --------------    -----  \n",
      " 0   App_Id                   1230376 non-null  object \n",
      " 1   App_Name                 1230375 non-null  object \n",
      " 2   AppStore_Url             1230376 non-null  object \n",
      " 3   Primary_Genre            1230376 non-null  object \n",
      " 4   Content_Rating           1230376 non-null  object \n",
      " 5   Size_Bytes               1230152 non-null  float64\n",
      " 6   Required_IOS_Version     1230376 non-null  object \n",
      " 7   Released                 1230373 non-null  object \n",
      " 8   Updated                  1230376 non-null  object \n",
      " 9   Version                  1230376 non-null  object \n",
      " 10  Price                    1229886 non-null  float64\n",
      " 11  Currency                 1230376 non-null  object \n",
      " 12  Free                     1230376 non-null  bool   \n",
      " 13  DeveloperId              1230376 non-null  int64  \n",
      " 14  Developer                1230376 non-null  object \n",
      " 15  Developer_Url            1229267 non-null  object \n",
      " 16  Developer_Website        586388 non-null   object \n",
      " 17  Average_User_Rating      1230376 non-null  float64\n",
      " 18  Reviews                  1230376 non-null  int64  \n",
      " 19  Current_Version_Score    1230376 non-null  float64\n",
      " 20  Current_Version_Reviews  1230376 non-null  int64  \n",
      "dtypes: bool(1), float64(4), int64(3), object(13)\n",
      "memory usage: 188.9+ MB\n"
     ]
    }
   ],
   "source": [
    "df.info()"
   ]
  },
  {
   "cell_type": "code",
   "execution_count": 8,
   "metadata": {},
   "outputs": [
    {
     "data": {
      "text/html": [
       "<div>\n",
       "<style scoped>\n",
       "    .dataframe tbody tr th:only-of-type {\n",
       "        vertical-align: middle;\n",
       "    }\n",
       "\n",
       "    .dataframe tbody tr th {\n",
       "        vertical-align: top;\n",
       "    }\n",
       "\n",
       "    .dataframe thead th {\n",
       "        text-align: right;\n",
       "    }\n",
       "</style>\n",
       "<table border=\"1\" class=\"dataframe\">\n",
       "  <thead>\n",
       "    <tr style=\"text-align: right;\">\n",
       "      <th></th>\n",
       "      <th>Size_Bytes</th>\n",
       "      <th>Price</th>\n",
       "      <th>DeveloperId</th>\n",
       "      <th>Average_User_Rating</th>\n",
       "      <th>Reviews</th>\n",
       "      <th>Current_Version_Score</th>\n",
       "      <th>Current_Version_Reviews</th>\n",
       "    </tr>\n",
       "  </thead>\n",
       "  <tbody>\n",
       "    <tr>\n",
       "      <th>count</th>\n",
       "      <td>1.230152e+06</td>\n",
       "      <td>1.229886e+06</td>\n",
       "      <td>1.230376e+06</td>\n",
       "      <td>1.230376e+06</td>\n",
       "      <td>1.230376e+06</td>\n",
       "      <td>1.230376e+06</td>\n",
       "      <td>1.230376e+06</td>\n",
       "    </tr>\n",
       "    <tr>\n",
       "      <th>mean</th>\n",
       "      <td>7.510857e+07</td>\n",
       "      <td>5.041264e-01</td>\n",
       "      <td>1.092869e+09</td>\n",
       "      <td>1.788387e+00</td>\n",
       "      <td>8.259478e+02</td>\n",
       "      <td>1.788387e+00</td>\n",
       "      <td>8.259478e+02</td>\n",
       "    </tr>\n",
       "    <tr>\n",
       "      <th>std</th>\n",
       "      <td>2.318726e+08</td>\n",
       "      <td>6.869674e+00</td>\n",
       "      <td>4.090897e+08</td>\n",
       "      <td>2.154105e+00</td>\n",
       "      <td>5.016051e+04</td>\n",
       "      <td>2.154105e+00</td>\n",
       "      <td>5.016051e+04</td>\n",
       "    </tr>\n",
       "    <tr>\n",
       "      <th>min</th>\n",
       "      <td>2.762800e+04</td>\n",
       "      <td>0.000000e+00</td>\n",
       "      <td>2.816565e+08</td>\n",
       "      <td>0.000000e+00</td>\n",
       "      <td>0.000000e+00</td>\n",
       "      <td>0.000000e+00</td>\n",
       "      <td>0.000000e+00</td>\n",
       "    </tr>\n",
       "    <tr>\n",
       "      <th>25%</th>\n",
       "      <td>2.041344e+07</td>\n",
       "      <td>0.000000e+00</td>\n",
       "      <td>7.381109e+08</td>\n",
       "      <td>0.000000e+00</td>\n",
       "      <td>0.000000e+00</td>\n",
       "      <td>0.000000e+00</td>\n",
       "      <td>0.000000e+00</td>\n",
       "    </tr>\n",
       "    <tr>\n",
       "      <th>50%</th>\n",
       "      <td>4.333158e+07</td>\n",
       "      <td>0.000000e+00</td>\n",
       "      <td>1.179711e+09</td>\n",
       "      <td>0.000000e+00</td>\n",
       "      <td>0.000000e+00</td>\n",
       "      <td>0.000000e+00</td>\n",
       "      <td>0.000000e+00</td>\n",
       "    </tr>\n",
       "    <tr>\n",
       "      <th>75%</th>\n",
       "      <td>8.365466e+07</td>\n",
       "      <td>0.000000e+00</td>\n",
       "      <td>1.471960e+09</td>\n",
       "      <td>4.333330e+00</td>\n",
       "      <td>3.000000e+00</td>\n",
       "      <td>4.333330e+00</td>\n",
       "      <td>3.000000e+00</td>\n",
       "    </tr>\n",
       "    <tr>\n",
       "      <th>max</th>\n",
       "      <td>7.677945e+10</td>\n",
       "      <td>9.999900e+02</td>\n",
       "      <td>1.590233e+09</td>\n",
       "      <td>5.000000e+00</td>\n",
       "      <td>2.268533e+07</td>\n",
       "      <td>5.000000e+00</td>\n",
       "      <td>2.268533e+07</td>\n",
       "    </tr>\n",
       "  </tbody>\n",
       "</table>\n",
       "</div>"
      ],
      "text/plain": [
       "         Size_Bytes         Price   DeveloperId  Average_User_Rating  \\\n",
       "count  1.230152e+06  1.229886e+06  1.230376e+06         1.230376e+06   \n",
       "mean   7.510857e+07  5.041264e-01  1.092869e+09         1.788387e+00   \n",
       "std    2.318726e+08  6.869674e+00  4.090897e+08         2.154105e+00   \n",
       "min    2.762800e+04  0.000000e+00  2.816565e+08         0.000000e+00   \n",
       "25%    2.041344e+07  0.000000e+00  7.381109e+08         0.000000e+00   \n",
       "50%    4.333158e+07  0.000000e+00  1.179711e+09         0.000000e+00   \n",
       "75%    8.365466e+07  0.000000e+00  1.471960e+09         4.333330e+00   \n",
       "max    7.677945e+10  9.999900e+02  1.590233e+09         5.000000e+00   \n",
       "\n",
       "            Reviews  Current_Version_Score  Current_Version_Reviews  \n",
       "count  1.230376e+06           1.230376e+06             1.230376e+06  \n",
       "mean   8.259478e+02           1.788387e+00             8.259478e+02  \n",
       "std    5.016051e+04           2.154105e+00             5.016051e+04  \n",
       "min    0.000000e+00           0.000000e+00             0.000000e+00  \n",
       "25%    0.000000e+00           0.000000e+00             0.000000e+00  \n",
       "50%    0.000000e+00           0.000000e+00             0.000000e+00  \n",
       "75%    3.000000e+00           4.333330e+00             3.000000e+00  \n",
       "max    2.268533e+07           5.000000e+00             2.268533e+07  "
      ]
     },
     "execution_count": 8,
     "metadata": {},
     "output_type": "execute_result"
    }
   ],
   "source": [
    "df.describe()"
   ]
  },
  {
   "cell_type": "markdown",
   "metadata": {},
   "source": [
    "## **Observations:**\n",
    "* `Content_Rating` can be converted to numeric form.\n",
    "* `Required_IOS_version` can be converted too!\n",
    "* `Version` can also be converted.\n",
    "All these to be converted so that analysis is more easy."
   ]
  },
  {
   "cell_type": "markdown",
   "metadata": {},
   "source": [
    "- **Let's take care of `Content_Rating`**\\\n",
    "To convert it we need to drop `+` sign and change its data type."
   ]
  },
  {
   "cell_type": "code",
   "execution_count": 9,
   "metadata": {},
   "outputs": [
    {
     "data": {
      "text/plain": [
       "array(['4+', '17+', '9+', '12+', 'Not yet rated'], dtype=object)"
      ]
     },
     "execution_count": 9,
     "metadata": {},
     "output_type": "execute_result"
    }
   ],
   "source": [
    "# unique values in content rating\n",
    "df['Content_Rating'].unique()"
   ]
  },
  {
   "cell_type": "code",
   "execution_count": 10,
   "metadata": {},
   "outputs": [
    {
     "data": {
      "text/plain": [
       "Content_Rating\n",
       "4+               980971\n",
       "17+              124127\n",
       "12+               89570\n",
       "9+                35698\n",
       "Not yet rated        10\n",
       "Name: count, dtype: int64"
      ]
     },
     "execution_count": 10,
     "metadata": {},
     "output_type": "execute_result"
    }
   ],
   "source": [
    "df['Content_Rating'].value_counts()"
   ]
  },
  {
   "cell_type": "code",
   "execution_count": 11,
   "metadata": {},
   "outputs": [],
   "source": [
    "# Dropping \"+\" sign from Content_Rating column using lambda function\n",
    "df['Content_Rating'] = df['Content_Rating'].apply(lambda x: x.replace('+', '') if '+' in str(x) else x)\n",
    "# Converting 'Not yet rated' to NaN\n",
    "df['Content_Rating'] = df['Content_Rating'].replace('Not yet rated', np.nan)"
   ]
  },
  {
   "cell_type": "code",
   "execution_count": 12,
   "metadata": {},
   "outputs": [
    {
     "data": {
      "text/plain": [
       "Content_Rating\n",
       "4     980971\n",
       "17    124127\n",
       "12     89570\n",
       "9      35698\n",
       "Name: count, dtype: int64"
      ]
     },
     "execution_count": 12,
     "metadata": {},
     "output_type": "execute_result"
    }
   ],
   "source": [
    "# let's check if changes are done\n",
    "df['Content_Rating'].value_counts()"
   ]
  },
  {
   "cell_type": "code",
   "execution_count": 13,
   "metadata": {},
   "outputs": [
    {
     "data": {
      "text/plain": [
       "Content_Rating\n",
       "4.0     980971\n",
       "17.0    124127\n",
       "12.0     89570\n",
       "9.0      35698\n",
       "Name: count, dtype: int64"
      ]
     },
     "execution_count": 13,
     "metadata": {},
     "output_type": "execute_result"
    }
   ],
   "source": [
    "# changing dtype of content_rating using lambda function\n",
    "df['Content_Rating'] = df['Content_Rating'].apply(lambda x: float(x))\n",
    "df['Content_Rating'].value_counts()"
   ]
  },
  {
   "cell_type": "markdown",
   "metadata": {},
   "source": [
    "- **Now its turn of `Required_IOS_version`**\\\n",
    "Checking and converting its data type."
   ]
  },
  {
   "cell_type": "code",
   "execution_count": 14,
   "metadata": {},
   "outputs": [
    {
     "data": {
      "text/plain": [
       "Required_IOS_Version\n",
       "11.0       210764\n",
       "9.0        206440\n",
       "10.0       196082\n",
       "8.0        150973\n",
       "12.0        94489\n",
       "13.0        52161\n",
       "7.0         46953\n",
       "6.0         42845\n",
       "12.1        20518\n",
       "9.3         16151\n",
       "10.3        15753\n",
       "14.0        12660\n",
       "12.2        12158\n",
       "7.1          9520\n",
       "8.1          7726\n",
       "11.4         7329\n",
       "12.4         6378\n",
       "11.2         6347\n",
       "9.1          6008\n",
       "14.1         6007\n",
       "5.1.1        5903\n",
       "13.2         5673\n",
       "10.2         5531\n",
       "11.1         4876\n",
       "6.1          4312\n",
       "4.3          4177\n",
       "10.1         3954\n",
       "11.3         3912\n",
       "8.2          3813\n",
       "9.2          3280\n",
       "13.4         2871\n",
       "12.3         2575\n",
       "14.5         2553\n",
       "5.0          2542\n",
       "13.6         2328\n",
       "14.4         2300\n",
       "10.7         2216\n",
       "10.10        2183\n",
       "10.11        2167\n",
       "13.1         2048\n",
       "8.4          1772\n",
       "13.5         1756\n",
       "10.12        1729\n",
       "10.9         1637\n",
       "11           1602\n",
       "14.3         1474\n",
       "10.9.0       1435\n",
       "10.13        1321\n",
       "10.15        1300\n",
       "14.2         1260\n",
       "10           1256\n",
       "10.8         1252\n",
       "10.14        1189\n",
       "10.6         1185\n",
       "10.6.6       1151\n",
       "5.1           996\n",
       "8.3           940\n",
       "4.0           919\n",
       "15.0          847\n",
       "9.0.0         807\n",
       "3.0           614\n",
       "7             606\n",
       "12            519\n",
       "13.7          493\n",
       "9             488\n",
       "3.2           447\n",
       "13.3          350\n",
       "10.10.0       336\n",
       "11.0.0        308\n",
       "8             266\n",
       "4.2           200\n",
       "9.3.5         186\n",
       "7.1.2         180\n",
       "8.0.0         159\n",
       "13            150\n",
       "3.1           142\n",
       "12.0.0        137\n",
       "10.13.0       137\n",
       "3.1.3         136\n",
       "4.1           116\n",
       "10.11.0       109\n",
       "10.5          103\n",
       "6             102\n",
       "12.5           76\n",
       "10.7.4         75\n",
       "14.7           75\n",
       "10.12.0        73\n",
       "7.0.0          65\n",
       "10.0.0         59\n",
       "10.4           53\n",
       "2.2.1          52\n",
       "10.11.6        51\n",
       "3.1.2          48\n",
       "2.0            44\n",
       "10.7.5         43\n",
       "10.12.2        41\n",
       "14             41\n",
       "10.15.0        39\n",
       "10.8.0         35\n",
       "13.0.0         34\n",
       "10.6.0         30\n",
       "5.2            29\n",
       "10.13.2        28\n",
       "10.6.8         27\n",
       "10.13.6        27\n",
       "10.15.1        26\n",
       "10.7.3         25\n",
       "10.3.3         25\n",
       "10.12.6        24\n",
       "2.2            22\n",
       "10.9.5         21\n",
       "10.7.0         20\n",
       "10.4.0         19\n",
       "10.14.6        19\n",
       "6.0.0          18\n",
       "10.5.0         17\n",
       "2.1            16\n",
       "14.6           16\n",
       "10.14.4        16\n",
       "10.14.0        15\n",
       "10.10.5        15\n",
       "9.4            15\n",
       "5.11           14\n",
       "10.15.4        13\n",
       "12.4.8         12\n",
       "8.4.1          12\n",
       "10.15.5        11\n",
       "9.5            11\n",
       "3.2.2          10\n",
       "10.13.4        10\n",
       "10.0.1         10\n",
       "10.8.5         10\n",
       "10.15.6         7\n",
       "11.4.1          7\n",
       "10.12.5         7\n",
       "3.2.1           7\n",
       "7.2             7\n",
       "12.5.3          6\n",
       "12.5.4          6\n",
       "14.0.0          6\n",
       "5               5\n",
       "10.3.4          5\n",
       "7.9             5\n",
       "5.0.1           5\n",
       "11.0.1          5\n",
       "12.4.5          5\n",
       "12.4.6          5\n",
       "9.3.4           5\n",
       "10.10.1         5\n",
       "7.35            5\n",
       "10.8.3          4\n",
       "12.4.3          4\n",
       "11.5            4\n",
       "10.11.5         4\n",
       "10.4.4          4\n",
       "6.1.6           4\n",
       "12.3.0          4\n",
       "10.3.1          4\n",
       "10.12.4         4\n",
       "12.4.0          4\n",
       "10.10.3         3\n",
       "14.1.99         3\n",
       "4.3.0           3\n",
       "9.3.0           3\n",
       "10.6.4          3\n",
       "6.0.1           3\n",
       "10.16           3\n",
       "8.0.1           3\n",
       "4.0.1           3\n",
       "10.9.4          3\n",
       "8.1.0           3\n",
       "8.5             3\n",
       "10.8.2          3\n",
       "12.5.1          3\n",
       "10.5.8          3\n",
       "10.3.2          2\n",
       "10.1.1          2\n",
       "11.0.3          2\n",
       "5.5.1           2\n",
       "9.1.0           2\n",
       "10.6.7          2\n",
       "10.14.2         2\n",
       "6.1.0           2\n",
       "13.2.99         2\n",
       "10.0.2          2\n",
       "11.2.0          2\n",
       "10.2.1          2\n",
       "13.1.3          2\n",
       "9.6             2\n",
       "11.7            2\n",
       "6.3             2\n",
       "6.1.3           2\n",
       "15              2\n",
       "10.15.2         2\n",
       "13.5.1          2\n",
       "10.3.9          2\n",
       "10.10.2         2\n",
       "12.0.1          2\n",
       "12.3.1          2\n",
       "7.1.1           2\n",
       "13.6.0          2\n",
       "10.14.5         2\n",
       "4.3.3           2\n",
       "12.4.4          1\n",
       "10.5.2          1\n",
       "11.6            1\n",
       "11.1.2          1\n",
       "11.3.1          1\n",
       "13.1.2          1\n",
       "10.15.7         1\n",
       "9.0.1           1\n",
       "8.6             1\n",
       "10.5.3          1\n",
       "14.4.2          1\n",
       "8.1.3           1\n",
       "9.11.0          1\n",
       "5.1.0           1\n",
       "10.13.1         1\n",
       "10.12.1         1\n",
       "10.5.7          1\n",
       "9.3.2           1\n",
       "9.0.2           1\n",
       "12.2.2          1\n",
       "10.8.1          1\n",
       "6.4             1\n",
       "10.15.3         1\n",
       "12.4.2          1\n",
       "10.13.5         1\n",
       "4.3.1           1\n",
       "11.24           1\n",
       "8.1.2           1\n",
       "4.2.5           1\n",
       "13.2.0          1\n",
       "12.2.0          1\n",
       "11.50           1\n",
       "9.3.6           1\n",
       "10.4.9          1\n",
       "13.4.1          1\n",
       "4.4             1\n",
       "6.2             1\n",
       "7.1.0           1\n",
       "14.8            1\n",
       "12.16           1\n",
       "4.0.2           1\n",
       "11.9.0          1\n",
       "9.9             1\n",
       "10.5.1          1\n",
       "3.2.0           1\n",
       "10.3.0          1\n",
       "5.0.0           1\n",
       "10.6.5          1\n",
       "9.3.3           1\n",
       "14.4.1          1\n",
       "8.1.1           1\n",
       "13.5.0          1\n",
       "7.0.4           1\n",
       "10.11.1         1\n",
       "11.2.5          1\n",
       "10.11.4         1\n",
       "11.2.2          1\n",
       "Name: count, dtype: int64"
      ]
     },
     "execution_count": 14,
     "metadata": {},
     "output_type": "execute_result"
    }
   ],
   "source": [
    "df['Required_IOS_Version'].value_counts()"
   ]
  },
  {
   "cell_type": "code",
   "execution_count": 15,
   "metadata": {},
   "outputs": [],
   "source": [
    "# defining a function to drop more than one decimal point \n",
    "def convert_ios_version(version_str):\n",
    "    parts = version_str.split('.')\n",
    "    if len(parts) > 2:\n",
    "        return float(parts[0] + '.' + parts[1])\n",
    "    else:\n",
    "        return float(version_str)"
   ]
  },
  {
   "cell_type": "code",
   "execution_count": 16,
   "metadata": {},
   "outputs": [],
   "source": [
    "df['Required_IOS_Version']=df['Required_IOS_Version'].apply(convert_ios_version)"
   ]
  },
  {
   "cell_type": "code",
   "execution_count": 17,
   "metadata": {},
   "outputs": [
    {
     "data": {
      "text/plain": [
       "Required_IOS_Version\n",
       "11.00    212681\n",
       "9.00     207737\n",
       "10.00    197409\n",
       "8.00     151401\n",
       "12.00     95147\n",
       "13.00     52345\n",
       "7.00      47625\n",
       "6.00      42968\n",
       "12.10     20518\n",
       "9.30      16348\n",
       "10.30     15792\n",
       "14.00     12707\n",
       "12.20     12160\n",
       "7.10       9703\n",
       "8.10       7732\n",
       "11.40      7336\n",
       "5.10       6900\n",
       "10.10      6500\n",
       "12.40      6410\n",
       "11.20      6351\n",
       "9.10       6010\n",
       "14.10      6010\n",
       "13.20      5676\n",
       "10.20      5533\n",
       "11.10      4877\n",
       "6.10       4320\n",
       "4.30       4183\n",
       "11.30      3913\n",
       "8.20       3813\n",
       "9.20       3280\n",
       "10.90      3096\n",
       "13.40      2872\n",
       "12.30      2581\n",
       "5.00       2553\n",
       "14.50      2553\n",
       "10.60      2399\n",
       "10.70      2379\n",
       "10.11      2333\n",
       "13.60      2330\n",
       "14.40      2302\n",
       "13.10      2051\n",
       "10.12      1879\n",
       "8.40       1784\n",
       "13.50      1759\n",
       "10.13      1525\n",
       "14.30      1474\n",
       "10.15      1400\n",
       "10.80      1305\n",
       "14.20      1260\n",
       "10.14      1243\n",
       "8.30        940\n",
       "4.00        923\n",
       "15.00       849\n",
       "3.00        614\n",
       "13.70       493\n",
       "3.20        465\n",
       "13.30       350\n",
       "3.10        326\n",
       "4.20        201\n",
       "10.50       127\n",
       "4.10        116\n",
       "12.50        91\n",
       "10.40        77\n",
       "14.70        75\n",
       "2.20         74\n",
       "2.00         44\n",
       "5.20         29\n",
       "14.60        16\n",
       "2.10         16\n",
       "9.40         15\n",
       "5.11         14\n",
       "9.50         11\n",
       "7.20          7\n",
       "7.35          5\n",
       "7.90          5\n",
       "11.50         5\n",
       "10.16         3\n",
       "8.50          3\n",
       "9.60          2\n",
       "11.70         2\n",
       "5.50          2\n",
       "6.30          2\n",
       "4.40          1\n",
       "6.40          1\n",
       "11.24         1\n",
       "14.80         1\n",
       "12.16         1\n",
       "6.20          1\n",
       "11.90         1\n",
       "9.90          1\n",
       "9.11          1\n",
       "8.60          1\n",
       "11.60         1\n",
       "Name: count, dtype: int64"
      ]
     },
     "execution_count": 17,
     "metadata": {},
     "output_type": "execute_result"
    }
   ],
   "source": [
    "df['Required_IOS_Version'].value_counts()"
   ]
  },
  {
   "cell_type": "markdown",
   "metadata": {},
   "source": [
    "# **LEAVING `VERSION` FOR NOW**"
   ]
  },
  {
   "cell_type": "markdown",
   "metadata": {},
   "source": [
    "- **Let's go for `Version`**\\\n",
    "Dropping extra decimals to make it float."
   ]
  },
  {
   "cell_type": "code",
   "execution_count": 18,
   "metadata": {},
   "outputs": [],
   "source": [
    "# df['Version'] = df['Version'].str.extract('(\\d+\\.\\d+)', expand=False).fillna(df['Version'])"
   ]
  },
  {
   "cell_type": "code",
   "execution_count": 19,
   "metadata": {},
   "outputs": [],
   "source": [
    "# changing the datatype to float using lambda function\n",
    "# df['Version'].value_counts()"
   ]
  },
  {
   "cell_type": "code",
   "execution_count": 20,
   "metadata": {},
   "outputs": [],
   "source": [
    "\n",
    "# df['Version'] = df['Version'].apply(lambda x: np.nan if not str(x).isdigit() else x)"
   ]
  },
  {
   "cell_type": "code",
   "execution_count": 21,
   "metadata": {},
   "outputs": [],
   "source": [
    "# def convert_version(version_str):\n",
    "#     if pd.isnull(version_str) or not version_str.replace('.', '').isdigit():\n",
    "#         return version_str\n",
    "#     else:\n",
    "#         version_parts = [int(part) for part in version_str.split('.')]\n",
    "#         return '.'.join(map(str, version_parts[:3]))"
   ]
  },
  {
   "cell_type": "code",
   "execution_count": 22,
   "metadata": {},
   "outputs": [],
   "source": [
    "# df['Version'] = df['Version'].apply(convert_ios_version)"
   ]
  },
  {
   "cell_type": "code",
   "execution_count": 23,
   "metadata": {},
   "outputs": [],
   "source": [
    "# df['Version'].value_counts()"
   ]
  },
  {
   "cell_type": "markdown",
   "metadata": {},
   "source": [
    "- Let's handle the outliers in `Version` column using IDR method"
   ]
  },
  {
   "cell_type": "code",
   "execution_count": 24,
   "metadata": {},
   "outputs": [],
   "source": [
    "# Q1 = df['Version'].quantile(0.25)\n",
    "# Q3 = df['Version'].quantile(0.75)\n",
    "# IQR = Q3 - Q1\n",
    "# lower_bound = Q1 - (IQR * 1.5)\n",
    "# upper_bound = Q3 + (IQR * 1.5)\n",
    "# df = df[(df['Version'] >= lower_bound) & (df['Version'] <= upper_bound)]\n",
    "# df['Version'].value_counts()"
   ]
  },
  {
   "cell_type": "code",
   "execution_count": 25,
   "metadata": {},
   "outputs": [
    {
     "data": {
      "text/html": [
       "<div>\n",
       "<style scoped>\n",
       "    .dataframe tbody tr th:only-of-type {\n",
       "        vertical-align: middle;\n",
       "    }\n",
       "\n",
       "    .dataframe tbody tr th {\n",
       "        vertical-align: top;\n",
       "    }\n",
       "\n",
       "    .dataframe thead th {\n",
       "        text-align: right;\n",
       "    }\n",
       "</style>\n",
       "<table border=\"1\" class=\"dataframe\">\n",
       "  <thead>\n",
       "    <tr style=\"text-align: right;\">\n",
       "      <th></th>\n",
       "      <th>Content_Rating</th>\n",
       "      <th>Size_Bytes</th>\n",
       "      <th>Required_IOS_Version</th>\n",
       "      <th>Price</th>\n",
       "      <th>DeveloperId</th>\n",
       "      <th>Average_User_Rating</th>\n",
       "      <th>Reviews</th>\n",
       "      <th>Current_Version_Score</th>\n",
       "      <th>Current_Version_Reviews</th>\n",
       "    </tr>\n",
       "  </thead>\n",
       "  <tbody>\n",
       "    <tr>\n",
       "      <th>count</th>\n",
       "      <td>1.230366e+06</td>\n",
       "      <td>1.230152e+06</td>\n",
       "      <td>1.230376e+06</td>\n",
       "      <td>1.229886e+06</td>\n",
       "      <td>1.230376e+06</td>\n",
       "      <td>1.230376e+06</td>\n",
       "      <td>1.230376e+06</td>\n",
       "      <td>1.230376e+06</td>\n",
       "      <td>1.230376e+06</td>\n",
       "    </tr>\n",
       "    <tr>\n",
       "      <th>mean</th>\n",
       "      <td>6.038988e+00</td>\n",
       "      <td>7.510857e+07</td>\n",
       "      <td>9.882084e+00</td>\n",
       "      <td>5.041264e-01</td>\n",
       "      <td>1.092869e+09</td>\n",
       "      <td>1.788387e+00</td>\n",
       "      <td>8.259478e+02</td>\n",
       "      <td>1.788387e+00</td>\n",
       "      <td>8.259478e+02</td>\n",
       "    </tr>\n",
       "    <tr>\n",
       "      <th>std</th>\n",
       "      <td>4.275142e+00</td>\n",
       "      <td>2.318726e+08</td>\n",
       "      <td>1.925810e+00</td>\n",
       "      <td>6.869674e+00</td>\n",
       "      <td>4.090897e+08</td>\n",
       "      <td>2.154105e+00</td>\n",
       "      <td>5.016051e+04</td>\n",
       "      <td>2.154105e+00</td>\n",
       "      <td>5.016051e+04</td>\n",
       "    </tr>\n",
       "    <tr>\n",
       "      <th>min</th>\n",
       "      <td>4.000000e+00</td>\n",
       "      <td>2.762800e+04</td>\n",
       "      <td>2.000000e+00</td>\n",
       "      <td>0.000000e+00</td>\n",
       "      <td>2.816565e+08</td>\n",
       "      <td>0.000000e+00</td>\n",
       "      <td>0.000000e+00</td>\n",
       "      <td>0.000000e+00</td>\n",
       "      <td>0.000000e+00</td>\n",
       "    </tr>\n",
       "    <tr>\n",
       "      <th>25%</th>\n",
       "      <td>4.000000e+00</td>\n",
       "      <td>2.041344e+07</td>\n",
       "      <td>9.000000e+00</td>\n",
       "      <td>0.000000e+00</td>\n",
       "      <td>7.381109e+08</td>\n",
       "      <td>0.000000e+00</td>\n",
       "      <td>0.000000e+00</td>\n",
       "      <td>0.000000e+00</td>\n",
       "      <td>0.000000e+00</td>\n",
       "    </tr>\n",
       "    <tr>\n",
       "      <th>50%</th>\n",
       "      <td>4.000000e+00</td>\n",
       "      <td>4.333158e+07</td>\n",
       "      <td>1.000000e+01</td>\n",
       "      <td>0.000000e+00</td>\n",
       "      <td>1.179711e+09</td>\n",
       "      <td>0.000000e+00</td>\n",
       "      <td>0.000000e+00</td>\n",
       "      <td>0.000000e+00</td>\n",
       "      <td>0.000000e+00</td>\n",
       "    </tr>\n",
       "    <tr>\n",
       "      <th>75%</th>\n",
       "      <td>4.000000e+00</td>\n",
       "      <td>8.365466e+07</td>\n",
       "      <td>1.100000e+01</td>\n",
       "      <td>0.000000e+00</td>\n",
       "      <td>1.471960e+09</td>\n",
       "      <td>4.333330e+00</td>\n",
       "      <td>3.000000e+00</td>\n",
       "      <td>4.333330e+00</td>\n",
       "      <td>3.000000e+00</td>\n",
       "    </tr>\n",
       "    <tr>\n",
       "      <th>max</th>\n",
       "      <td>1.700000e+01</td>\n",
       "      <td>7.677945e+10</td>\n",
       "      <td>1.500000e+01</td>\n",
       "      <td>9.999900e+02</td>\n",
       "      <td>1.590233e+09</td>\n",
       "      <td>5.000000e+00</td>\n",
       "      <td>2.268533e+07</td>\n",
       "      <td>5.000000e+00</td>\n",
       "      <td>2.268533e+07</td>\n",
       "    </tr>\n",
       "  </tbody>\n",
       "</table>\n",
       "</div>"
      ],
      "text/plain": [
       "       Content_Rating    Size_Bytes  Required_IOS_Version         Price  \\\n",
       "count    1.230366e+06  1.230152e+06          1.230376e+06  1.229886e+06   \n",
       "mean     6.038988e+00  7.510857e+07          9.882084e+00  5.041264e-01   \n",
       "std      4.275142e+00  2.318726e+08          1.925810e+00  6.869674e+00   \n",
       "min      4.000000e+00  2.762800e+04          2.000000e+00  0.000000e+00   \n",
       "25%      4.000000e+00  2.041344e+07          9.000000e+00  0.000000e+00   \n",
       "50%      4.000000e+00  4.333158e+07          1.000000e+01  0.000000e+00   \n",
       "75%      4.000000e+00  8.365466e+07          1.100000e+01  0.000000e+00   \n",
       "max      1.700000e+01  7.677945e+10          1.500000e+01  9.999900e+02   \n",
       "\n",
       "        DeveloperId  Average_User_Rating       Reviews  Current_Version_Score  \\\n",
       "count  1.230376e+06         1.230376e+06  1.230376e+06           1.230376e+06   \n",
       "mean   1.092869e+09         1.788387e+00  8.259478e+02           1.788387e+00   \n",
       "std    4.090897e+08         2.154105e+00  5.016051e+04           2.154105e+00   \n",
       "min    2.816565e+08         0.000000e+00  0.000000e+00           0.000000e+00   \n",
       "25%    7.381109e+08         0.000000e+00  0.000000e+00           0.000000e+00   \n",
       "50%    1.179711e+09         0.000000e+00  0.000000e+00           0.000000e+00   \n",
       "75%    1.471960e+09         4.333330e+00  3.000000e+00           4.333330e+00   \n",
       "max    1.590233e+09         5.000000e+00  2.268533e+07           5.000000e+00   \n",
       "\n",
       "       Current_Version_Reviews  \n",
       "count             1.230376e+06  \n",
       "mean              8.259478e+02  \n",
       "std               5.016051e+04  \n",
       "min               0.000000e+00  \n",
       "25%               0.000000e+00  \n",
       "50%               0.000000e+00  \n",
       "75%               3.000000e+00  \n",
       "max               2.268533e+07  "
      ]
     },
     "execution_count": 25,
     "metadata": {},
     "output_type": "execute_result"
    }
   ],
   "source": [
    "df.describe()"
   ]
  },
  {
   "cell_type": "code",
   "execution_count": 26,
   "metadata": {},
   "outputs": [
    {
     "data": {
      "text/plain": [
       "App_Id                          0\n",
       "App_Name                        1\n",
       "AppStore_Url                    0\n",
       "Primary_Genre                   0\n",
       "Content_Rating                 10\n",
       "Size_Bytes                    224\n",
       "Required_IOS_Version            0\n",
       "Released                        3\n",
       "Updated                         0\n",
       "Version                         0\n",
       "Price                         490\n",
       "Currency                        0\n",
       "Free                            0\n",
       "DeveloperId                     0\n",
       "Developer                       0\n",
       "Developer_Url                1109\n",
       "Developer_Website          643988\n",
       "Average_User_Rating             0\n",
       "Reviews                         0\n",
       "Current_Version_Score           0\n",
       "Current_Version_Reviews         0\n",
       "dtype: int64"
      ]
     },
     "execution_count": 26,
     "metadata": {},
     "output_type": "execute_result"
    }
   ],
   "source": [
    "df.isnull().sum()"
   ]
  },
  {
   "cell_type": "code",
   "execution_count": 27,
   "metadata": {},
   "outputs": [
    {
     "data": {
      "text/plain": [
       "<Axes: >"
      ]
     },
     "execution_count": 27,
     "metadata": {},
     "output_type": "execute_result"
    },
    {
     "data": {
      "image/png": "[encoded data removed]",
      "text/plain": [
       "<Figure size 640x480 with 2 Axes>"
      ]
     },
     "metadata": {},
     "output_type": "display_data"
    }
   ],
   "source": [
    "sns.heatmap(df.isnull())"
   ]
  },
  {
   "cell_type": "code",
   "execution_count": 28,
   "metadata": {},
   "outputs": [],
   "source": [
    "df.drop('Developer_Website', axis=1, inplace=True)"
   ]
  },
  {
   "cell_type": "code",
   "execution_count": 29,
   "metadata": {},
   "outputs": [
    {
     "data": {
      "text/plain": [
       "Developer_Url              1109\n",
       "Price                       490\n",
       "Size_Bytes                  224\n",
       "Content_Rating               10\n",
       "Released                      3\n",
       "App_Name                      1\n",
       "App_Id                        0\n",
       "AppStore_Url                  0\n",
       "Primary_Genre                 0\n",
       "Required_IOS_Version          0\n",
       "Version                       0\n",
       "Updated                       0\n",
       "Currency                      0\n",
       "Free                          0\n",
       "DeveloperId                   0\n",
       "Developer                     0\n",
       "Average_User_Rating           0\n",
       "Reviews                       0\n",
       "Current_Version_Score         0\n",
       "Current_Version_Reviews       0\n",
       "dtype: int64"
      ]
     },
     "execution_count": 29,
     "metadata": {},
     "output_type": "execute_result"
    }
   ],
   "source": [
    "df.isnull().sum().sort_values(ascending=False)"
   ]
  },
  {
   "cell_type": "code",
   "execution_count": 30,
   "metadata": {},
   "outputs": [],
   "source": [
    "df.dropna(subset=['Price'], inplace=True)\n",
    "\n",
    "df.dropna(subset=['Content_Rating'], inplace=True)\n",
    "\n",
    "df.dropna(subset=['Size_Bytes'], inplace=True)\n",
    "\n",
    "df.dropna(subset=['Released'], inplace=True)\n",
    "\n",
    "df.dropna(subset=['App_Name'], inplace=True)\n",
    "\n",
    "df.dropna(subset=['Developer_Url'], inplace=True)"
   ]
  },
  {
   "cell_type": "code",
   "execution_count": 31,
   "metadata": {},
   "outputs": [
    {
     "data": {
      "text/plain": [
       "App_Id                     0\n",
       "App_Name                   0\n",
       "AppStore_Url               0\n",
       "Primary_Genre              0\n",
       "Content_Rating             0\n",
       "Size_Bytes                 0\n",
       "Required_IOS_Version       0\n",
       "Released                   0\n",
       "Updated                    0\n",
       "Version                    0\n",
       "Price                      0\n",
       "Currency                   0\n",
       "Free                       0\n",
       "DeveloperId                0\n",
       "Developer                  0\n",
       "Developer_Url              0\n",
       "Average_User_Rating        0\n",
       "Reviews                    0\n",
       "Current_Version_Score      0\n",
       "Current_Version_Reviews    0\n",
       "dtype: int64"
      ]
     },
     "execution_count": 31,
     "metadata": {},
     "output_type": "execute_result"
    }
   ],
   "source": [
    "df.isnull().sum().sort_values(ascending=False)"
   ]
  },
  {
   "cell_type": "code",
   "execution_count": null,
   "metadata": {},
   "outputs": [],
   "source": []
  }
 ],
 "metadata": {
  "kernelspec": {
   "display_name": "python_eda",
   "language": "python",
   "name": "python3"
  },
  "language_info": {
   "codemirror_mode": {
    "name": "ipython",
    "version": 3
   },
   "file_extension": ".py",
   "mimetype": "text/x-python",
   "name": "python",
   "nbconvert_exporter": "python",
   "pygments_lexer": "ipython3",
   "version": "3.10.14"
  }
 },
 "nbformat": 4,
 "nbformat_minor": 2
}
